{
 "cells": [
  {
   "cell_type": "code",
   "execution_count": 1,
   "metadata": {},
   "outputs": [],
   "source": [
    "import pandas as pd\n",
    "import numpy as np"
   ]
  },
  {
   "cell_type": "code",
   "execution_count": 2,
   "metadata": {},
   "outputs": [],
   "source": [
    "data = pd.read_csv('Labeled-ML.csv')\n",
    "data = data.drop(['Unnamed: 0', 'Date'], axis=1).drop([0], axis=0)\n",
    "data = data.reset_index(drop=True)"
   ]
  },
  {
   "cell_type": "code",
   "execution_count": 5,
   "metadata": {},
   "outputs": [
    {
     "data": {
      "text/plain": [
       "(5876, 15)"
      ]
     },
     "execution_count": 5,
     "metadata": {},
     "output_type": "execute_result"
    }
   ],
   "source": [
    "data.shape"
   ]
  },
  {
   "cell_type": "markdown",
   "metadata": {},
   "source": [
    "👆🏻 總共有5876筆資料"
   ]
  },
  {
   "cell_type": "code",
   "execution_count": 3,
   "metadata": {},
   "outputs": [
    {
     "data": {
      "text/html": [
       "<div>\n",
       "<style scoped>\n",
       "    .dataframe tbody tr th:only-of-type {\n",
       "        vertical-align: middle;\n",
       "    }\n",
       "\n",
       "    .dataframe tbody tr th {\n",
       "        vertical-align: top;\n",
       "    }\n",
       "\n",
       "    .dataframe thead th {\n",
       "        text-align: right;\n",
       "    }\n",
       "</style>\n",
       "<table border=\"1\" class=\"dataframe\">\n",
       "  <thead>\n",
       "    <tr style=\"text-align: right;\">\n",
       "      <th></th>\n",
       "      <th>Day</th>\n",
       "      <th>Month</th>\n",
       "      <th>Year</th>\n",
       "      <th>Price</th>\n",
       "      <th>10D Return</th>\n",
       "      <th>250roll_mean</th>\n",
       "      <th>250roll_std</th>\n",
       "      <th>state</th>\n",
       "      <th>Invest</th>\n",
       "      <th>In_Time</th>\n",
       "      <th>In_Price</th>\n",
       "      <th>Fixed_In</th>\n",
       "      <th>Fixed_Price</th>\n",
       "      <th>D_In</th>\n",
       "      <th>D_Price</th>\n",
       "    </tr>\n",
       "  </thead>\n",
       "  <tbody>\n",
       "    <tr>\n",
       "      <th>0</th>\n",
       "      <td>6</td>\n",
       "      <td>1</td>\n",
       "      <td>1997</td>\n",
       "      <td>12.13</td>\n",
       "      <td>0.011676</td>\n",
       "      <td>0.014640</td>\n",
       "      <td>0.004191</td>\n",
       "      <td>mid</td>\n",
       "      <td>0</td>\n",
       "      <td>0</td>\n",
       "      <td>NaN</td>\n",
       "      <td>1</td>\n",
       "      <td>12.13</td>\n",
       "      <td>0</td>\n",
       "      <td>NaN</td>\n",
       "    </tr>\n",
       "    <tr>\n",
       "      <th>1</th>\n",
       "      <td>7</td>\n",
       "      <td>1</td>\n",
       "      <td>1997</td>\n",
       "      <td>12.12</td>\n",
       "      <td>0.013378</td>\n",
       "      <td>0.014219</td>\n",
       "      <td>0.003052</td>\n",
       "      <td>mid</td>\n",
       "      <td>0</td>\n",
       "      <td>0</td>\n",
       "      <td>NaN</td>\n",
       "      <td>0</td>\n",
       "      <td>NaN</td>\n",
       "      <td>0</td>\n",
       "      <td>NaN</td>\n",
       "    </tr>\n",
       "    <tr>\n",
       "      <th>2</th>\n",
       "      <td>8</td>\n",
       "      <td>1</td>\n",
       "      <td>1997</td>\n",
       "      <td>12.17</td>\n",
       "      <td>0.018410</td>\n",
       "      <td>0.015267</td>\n",
       "      <td>0.003256</td>\n",
       "      <td>mid</td>\n",
       "      <td>0</td>\n",
       "      <td>0</td>\n",
       "      <td>NaN</td>\n",
       "      <td>0</td>\n",
       "      <td>NaN</td>\n",
       "      <td>0</td>\n",
       "      <td>NaN</td>\n",
       "    </tr>\n",
       "    <tr>\n",
       "      <th>3</th>\n",
       "      <td>9</td>\n",
       "      <td>1</td>\n",
       "      <td>1997</td>\n",
       "      <td>12.20</td>\n",
       "      <td>0.020921</td>\n",
       "      <td>0.016398</td>\n",
       "      <td>0.003787</td>\n",
       "      <td>high</td>\n",
       "      <td>0</td>\n",
       "      <td>0</td>\n",
       "      <td>NaN</td>\n",
       "      <td>0</td>\n",
       "      <td>NaN</td>\n",
       "      <td>0</td>\n",
       "      <td>NaN</td>\n",
       "    </tr>\n",
       "    <tr>\n",
       "      <th>4</th>\n",
       "      <td>10</td>\n",
       "      <td>1</td>\n",
       "      <td>1997</td>\n",
       "      <td>12.08</td>\n",
       "      <td>0.005828</td>\n",
       "      <td>0.014636</td>\n",
       "      <td>0.005486</td>\n",
       "      <td>low</td>\n",
       "      <td>0</td>\n",
       "      <td>0</td>\n",
       "      <td>NaN</td>\n",
       "      <td>0</td>\n",
       "      <td>NaN</td>\n",
       "      <td>0</td>\n",
       "      <td>NaN</td>\n",
       "    </tr>\n",
       "  </tbody>\n",
       "</table>\n",
       "</div>"
      ],
      "text/plain": [
       "   Day  Month  Year  Price  10D Return  250roll_mean  250roll_std state  \\\n",
       "0    6      1  1997  12.13    0.011676      0.014640     0.004191   mid   \n",
       "1    7      1  1997  12.12    0.013378      0.014219     0.003052   mid   \n",
       "2    8      1  1997  12.17    0.018410      0.015267     0.003256   mid   \n",
       "3    9      1  1997  12.20    0.020921      0.016398     0.003787  high   \n",
       "4   10      1  1997  12.08    0.005828      0.014636     0.005486   low   \n",
       "\n",
       "   Invest  In_Time  In_Price  Fixed_In  Fixed_Price  D_In  D_Price  \n",
       "0       0        0       NaN         1        12.13     0      NaN  \n",
       "1       0        0       NaN         0          NaN     0      NaN  \n",
       "2       0        0       NaN         0          NaN     0      NaN  \n",
       "3       0        0       NaN         0          NaN     0      NaN  \n",
       "4       0        0       NaN         0          NaN     0      NaN  "
      ]
     },
     "execution_count": 3,
     "metadata": {},
     "output_type": "execute_result"
    }
   ],
   "source": [
    "data.head()"
   ]
  },
  {
   "cell_type": "code",
   "execution_count": 4,
   "metadata": {
    "scrolled": true
   },
   "outputs": [
    {
     "name": "stdout",
     "output_type": "stream",
     "text": [
      "<class 'pandas.core.frame.DataFrame'>\n",
      "RangeIndex: 5876 entries, 0 to 5875\n",
      "Data columns (total 15 columns):\n",
      "Day             5876 non-null int64\n",
      "Month           5876 non-null int64\n",
      "Year            5876 non-null int64\n",
      "Price           5876 non-null float64\n",
      "10D Return      5876 non-null float64\n",
      "250roll_mean    5876 non-null float64\n",
      "250roll_std     5876 non-null float64\n",
      "state           5876 non-null object\n",
      "Invest          5876 non-null int64\n",
      "In_Time         5876 non-null int64\n",
      "In_Price        47 non-null float64\n",
      "Fixed_In        5876 non-null int64\n",
      "Fixed_Price     280 non-null float64\n",
      "D_In            5876 non-null int64\n",
      "D_Price         73 non-null float64\n",
      "dtypes: float64(7), int64(7), object(1)\n",
      "memory usage: 688.7+ KB\n"
     ]
    }
   ],
   "source": [
    "data.info()"
   ]
  },
  {
   "cell_type": "markdown",
   "metadata": {},
   "source": [
    "👆🏻 其中有3個欄位有遺失值，分別是 `In_Price`、`Fixed_Price`、`D_Price`"
   ]
  },
  {
   "cell_type": "code",
   "execution_count": 8,
   "metadata": {},
   "outputs": [],
   "source": [
    "data = data.drop(['In_Price', 'Fixed_Price', 'D_Price'], axis=1)"
   ]
  },
  {
   "cell_type": "code",
   "execution_count": 9,
   "metadata": {},
   "outputs": [
    {
     "data": {
      "text/html": [
       "<div>\n",
       "<style scoped>\n",
       "    .dataframe tbody tr th:only-of-type {\n",
       "        vertical-align: middle;\n",
       "    }\n",
       "\n",
       "    .dataframe tbody tr th {\n",
       "        vertical-align: top;\n",
       "    }\n",
       "\n",
       "    .dataframe thead th {\n",
       "        text-align: right;\n",
       "    }\n",
       "</style>\n",
       "<table border=\"1\" class=\"dataframe\">\n",
       "  <thead>\n",
       "    <tr style=\"text-align: right;\">\n",
       "      <th></th>\n",
       "      <th>Day</th>\n",
       "      <th>Month</th>\n",
       "      <th>Year</th>\n",
       "      <th>Price</th>\n",
       "      <th>10D Return</th>\n",
       "      <th>250roll_mean</th>\n",
       "      <th>250roll_std</th>\n",
       "      <th>state</th>\n",
       "      <th>Invest</th>\n",
       "      <th>In_Time</th>\n",
       "      <th>Fixed_In</th>\n",
       "      <th>D_In</th>\n",
       "    </tr>\n",
       "  </thead>\n",
       "  <tbody>\n",
       "    <tr>\n",
       "      <th>0</th>\n",
       "      <td>6</td>\n",
       "      <td>1</td>\n",
       "      <td>1997</td>\n",
       "      <td>12.13</td>\n",
       "      <td>0.011676</td>\n",
       "      <td>0.014640</td>\n",
       "      <td>0.004191</td>\n",
       "      <td>mid</td>\n",
       "      <td>0</td>\n",
       "      <td>0</td>\n",
       "      <td>1</td>\n",
       "      <td>0</td>\n",
       "    </tr>\n",
       "    <tr>\n",
       "      <th>1</th>\n",
       "      <td>7</td>\n",
       "      <td>1</td>\n",
       "      <td>1997</td>\n",
       "      <td>12.12</td>\n",
       "      <td>0.013378</td>\n",
       "      <td>0.014219</td>\n",
       "      <td>0.003052</td>\n",
       "      <td>mid</td>\n",
       "      <td>0</td>\n",
       "      <td>0</td>\n",
       "      <td>0</td>\n",
       "      <td>0</td>\n",
       "    </tr>\n",
       "    <tr>\n",
       "      <th>2</th>\n",
       "      <td>8</td>\n",
       "      <td>1</td>\n",
       "      <td>1997</td>\n",
       "      <td>12.17</td>\n",
       "      <td>0.018410</td>\n",
       "      <td>0.015267</td>\n",
       "      <td>0.003256</td>\n",
       "      <td>mid</td>\n",
       "      <td>0</td>\n",
       "      <td>0</td>\n",
       "      <td>0</td>\n",
       "      <td>0</td>\n",
       "    </tr>\n",
       "    <tr>\n",
       "      <th>3</th>\n",
       "      <td>9</td>\n",
       "      <td>1</td>\n",
       "      <td>1997</td>\n",
       "      <td>12.20</td>\n",
       "      <td>0.020921</td>\n",
       "      <td>0.016398</td>\n",
       "      <td>0.003787</td>\n",
       "      <td>high</td>\n",
       "      <td>0</td>\n",
       "      <td>0</td>\n",
       "      <td>0</td>\n",
       "      <td>0</td>\n",
       "    </tr>\n",
       "    <tr>\n",
       "      <th>4</th>\n",
       "      <td>10</td>\n",
       "      <td>1</td>\n",
       "      <td>1997</td>\n",
       "      <td>12.08</td>\n",
       "      <td>0.005828</td>\n",
       "      <td>0.014636</td>\n",
       "      <td>0.005486</td>\n",
       "      <td>low</td>\n",
       "      <td>0</td>\n",
       "      <td>0</td>\n",
       "      <td>0</td>\n",
       "      <td>0</td>\n",
       "    </tr>\n",
       "  </tbody>\n",
       "</table>\n",
       "</div>"
      ],
      "text/plain": [
       "   Day  Month  Year  Price  10D Return  250roll_mean  250roll_std state  \\\n",
       "0    6      1  1997  12.13    0.011676      0.014640     0.004191   mid   \n",
       "1    7      1  1997  12.12    0.013378      0.014219     0.003052   mid   \n",
       "2    8      1  1997  12.17    0.018410      0.015267     0.003256   mid   \n",
       "3    9      1  1997  12.20    0.020921      0.016398     0.003787  high   \n",
       "4   10      1  1997  12.08    0.005828      0.014636     0.005486   low   \n",
       "\n",
       "   Invest  In_Time  Fixed_In  D_In  \n",
       "0       0        0         1     0  \n",
       "1       0        0         0     0  \n",
       "2       0        0         0     0  \n",
       "3       0        0         0     0  \n",
       "4       0        0         0     0  "
      ]
     },
     "execution_count": 9,
     "metadata": {},
     "output_type": "execute_result"
    }
   ],
   "source": [
    "data.head()"
   ]
  },
  {
   "cell_type": "markdown",
   "metadata": {},
   "source": [
    "👆🏻 刪除有遺失值的欄位"
   ]
  },
  {
   "cell_type": "code",
   "execution_count": 31,
   "metadata": {
    "scrolled": true
   },
   "outputs": [
    {
     "data": {
      "text/plain": [
       "array(['mid', 'high', 'low', 'extremely low', 'very low', 'Buy',\n",
       "       'very high', 'extremely high'], dtype=object)"
      ]
     },
     "execution_count": 31,
     "metadata": {},
     "output_type": "execute_result"
    }
   ],
   "source": [
    "data['state'].unique()"
   ]
  },
  {
   "cell_type": "markdown",
   "metadata": {},
   "source": [
    "👆🏻 總共有8種標籤"
   ]
  },
  {
   "cell_type": "markdown",
   "metadata": {},
   "source": [
    "---"
   ]
  },
  {
   "cell_type": "code",
   "execution_count": 137,
   "metadata": {},
   "outputs": [],
   "source": [
    "from sklearn.preprocessing import StandardScaler\n",
    "from sklearn.svm import SVC\n",
    "from sklearn.metrics import accuracy_score\n",
    "from sklearn.metrics import confusion_matrix"
   ]
  },
  {
   "cell_type": "code",
   "execution_count": 125,
   "metadata": {},
   "outputs": [
    {
     "data": {
      "text/plain": [
       "Index(['Day', 'Month', 'Year', 'Price', '10D Return', '250roll_mean',\n",
       "       '250roll_std', 'state', 'Invest', 'In_Time', 'Fixed_In', 'D_In'],\n",
       "      dtype='object')"
      ]
     },
     "execution_count": 125,
     "metadata": {},
     "output_type": "execute_result"
    }
   ],
   "source": [
    "data.columns"
   ]
  },
  {
   "cell_type": "code",
   "execution_count": 126,
   "metadata": {},
   "outputs": [],
   "source": [
    "X = data[['Day', 'Month', 'Year', 'Price', '10D Return', '250roll_mean', '250roll_std','Invest', 'In_Time', 'Fixed_In', 'D_In']]\n",
    "y = data['state']"
   ]
  },
  {
   "cell_type": "markdown",
   "metadata": {},
   "source": [
    "👆🏻 分X跟y"
   ]
  },
  {
   "cell_type": "code",
   "execution_count": 127,
   "metadata": {},
   "outputs": [
    {
     "name": "stdout",
     "output_type": "stream",
     "text": [
      "X： (5876, 11)\n",
      "y： (5876,)\n"
     ]
    }
   ],
   "source": [
    "print('X：', X.shape)\n",
    "print('y：', y.shape)"
   ]
  },
  {
   "cell_type": "code",
   "execution_count": 128,
   "metadata": {},
   "outputs": [
    {
     "data": {
      "text/plain": [
       "4700.8"
      ]
     },
     "execution_count": 128,
     "metadata": {},
     "output_type": "execute_result"
    }
   ],
   "source": [
    "5876/10*8"
   ]
  },
  {
   "cell_type": "code",
   "execution_count": 129,
   "metadata": {},
   "outputs": [],
   "source": [
    "X_train = X.iloc[:4701,:].values\n",
    "X_test = X.iloc[4701:,:].values\n",
    "y_train = y.iloc[:4701]\n",
    "y_test = y.iloc[4701:]"
   ]
  },
  {
   "cell_type": "markdown",
   "metadata": {},
   "source": [
    "👆🏻 分割測試集與訓練集，採 8:2"
   ]
  },
  {
   "cell_type": "code",
   "execution_count": 130,
   "metadata": {},
   "outputs": [],
   "source": [
    "sc = StandardScaler()\n",
    "X_train_std = sc.fit_transform(X_train)\n",
    "X_test_std = sc.transform(X_test)"
   ]
  },
  {
   "cell_type": "markdown",
   "metadata": {},
   "source": [
    "👆🏻 將x進行標準化"
   ]
  },
  {
   "cell_type": "markdown",
   "metadata": {},
   "source": [
    "#### kernel = linear"
   ]
  },
  {
   "cell_type": "code",
   "execution_count": 141,
   "metadata": {},
   "outputs": [
    {
     "data": {
      "text/plain": [
       "SVC(C=1.0, cache_size=200, class_weight=None, coef0=0.0,\n",
       "  decision_function_shape='ovr', degree=3, gamma='auto_deprecated',\n",
       "  kernel='linear', max_iter=-1, probability=True, random_state=None,\n",
       "  shrinking=True, tol=0.001, verbose=False)"
      ]
     },
     "execution_count": 141,
     "metadata": {},
     "output_type": "execute_result"
    }
   ],
   "source": [
    "svm = SVC(kernel='linear', probability=True)\n",
    "svm.fit(X_train_std, y_train)"
   ]
  },
  {
   "cell_type": "code",
   "execution_count": 142,
   "metadata": {},
   "outputs": [],
   "source": [
    "y_pred = svm.predict(X_test_std)"
   ]
  },
  {
   "cell_type": "code",
   "execution_count": 143,
   "metadata": {},
   "outputs": [
    {
     "data": {
      "text/plain": [
       "0.9685106382978723"
      ]
     },
     "execution_count": 143,
     "metadata": {},
     "output_type": "execute_result"
    }
   ],
   "source": [
    "accuracy_score(y_test, y_pred)"
   ]
  },
  {
   "cell_type": "markdown",
   "metadata": {},
   "source": [
    "👆🏻 在`kernel = linear`時，模型準確率為 0.97"
   ]
  },
  {
   "cell_type": "code",
   "execution_count": 145,
   "metadata": {
    "scrolled": true
   },
   "outputs": [
    {
     "data": {
      "text/plain": [
       "array([[  9,   0,   0,   0,   0,   0,   0,   0],\n",
       "       [  0,   1,   0,   0,   0,   0,   1,   0],\n",
       "       [  0,   0,  31,   0,   0,   0,   0,   0],\n",
       "       [  0,   0,   0, 132,   0,   2,   1,   0],\n",
       "       [  0,   0,   0,   0,  82,   9,   0,   0],\n",
       "       [  0,   0,   0,   1,   0, 849,   0,   0],\n",
       "       [  0,   0,   0,   7,   0,   0,  17,   0],\n",
       "       [  0,   0,  12,   0,   4,   0,   0,  17]], dtype=int64)"
      ]
     },
     "execution_count": 145,
     "metadata": {},
     "output_type": "execute_result"
    }
   ],
   "source": [
    "cm = confusion_matrix(y_test, y_pred)\n",
    "cm"
   ]
  },
  {
   "cell_type": "markdown",
   "metadata": {},
   "source": [
    "👆🏻 在`kernel = linear`的混淆矩陣"
   ]
  },
  {
   "cell_type": "markdown",
   "metadata": {},
   "source": [
    "#### kernel = rbf"
   ]
  },
  {
   "cell_type": "code",
   "execution_count": 146,
   "metadata": {},
   "outputs": [
    {
     "data": {
      "text/plain": [
       "SVC(C=1.0, cache_size=200, class_weight=None, coef0=0.0,\n",
       "  decision_function_shape='ovr', degree=3, gamma='auto_deprecated',\n",
       "  kernel='rbf', max_iter=-1, probability=True, random_state=None,\n",
       "  shrinking=True, tol=0.001, verbose=False)"
      ]
     },
     "execution_count": 146,
     "metadata": {},
     "output_type": "execute_result"
    }
   ],
   "source": [
    "svm = SVC(kernel='rbf', probability=True)\n",
    "svm.fit(X_train_std, y_train)"
   ]
  },
  {
   "cell_type": "code",
   "execution_count": 147,
   "metadata": {},
   "outputs": [],
   "source": [
    "y_pred = svm.predict(X_test_std)"
   ]
  },
  {
   "cell_type": "code",
   "execution_count": 148,
   "metadata": {
    "scrolled": true
   },
   "outputs": [
    {
     "data": {
      "text/plain": [
       "0.8493617021276596"
      ]
     },
     "execution_count": 148,
     "metadata": {},
     "output_type": "execute_result"
    }
   ],
   "source": [
    "accuracy_score(y_test, y_pred)"
   ]
  },
  {
   "cell_type": "markdown",
   "metadata": {},
   "source": [
    "👆🏻 在`kernel = rbf`時，模型準確率為 0.85"
   ]
  },
  {
   "cell_type": "code",
   "execution_count": 149,
   "metadata": {},
   "outputs": [
    {
     "data": {
      "text/plain": [
       "array([[  8,   0,   0,   0,   0,   0,   0,   1],\n",
       "       [  0,   0,   0,   1,   0,   0,   0,   1],\n",
       "       [  0,   0,   2,   0,  15,   0,   0,  14],\n",
       "       [  0,   0,   0,  93,   0,  42,   0,   0],\n",
       "       [  0,   0,   0,   0,  41,  50,   0,   0],\n",
       "       [  0,   0,   0,   2,   0, 848,   0,   0],\n",
       "       [  0,   0,   0,  24,   0,   0,   0,   0],\n",
       "       [  0,   0,   1,   0,  26,   0,   0,   6]], dtype=int64)"
      ]
     },
     "execution_count": 149,
     "metadata": {},
     "output_type": "execute_result"
    }
   ],
   "source": [
    "cm = confusion_matrix(y_test, y_pred)\n",
    "cm"
   ]
  },
  {
   "cell_type": "markdown",
   "metadata": {},
   "source": [
    "👆🏻 在`kernel = rbf`的混淆矩陣"
   ]
  }
 ],
 "metadata": {
  "kernelspec": {
   "display_name": "Python 3",
   "language": "python",
   "name": "python3"
  },
  "language_info": {
   "codemirror_mode": {
    "name": "ipython",
    "version": 3
   },
   "file_extension": ".py",
   "mimetype": "text/x-python",
   "name": "python",
   "nbconvert_exporter": "python",
   "pygments_lexer": "ipython3",
   "version": "3.7.1"
  }
 },
 "nbformat": 4,
 "nbformat_minor": 2
}
