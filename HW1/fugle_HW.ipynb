{
 "cells": [
  {
   "cell_type": "code",
   "execution_count": 12,
   "metadata": {
    "scrolled": false
   },
   "outputs": [],
   "source": [
    "import requests\n",
    "import configparser\n",
    "import telegram\n",
    "from flask import Flask, request\n",
    "from telegram.ext import Dispatcher, MessageHandler, Filters, CommandHandler\n",
    "from telegram import ReplyKeyboardMarkup\n",
    "from fugle_realtime import intraday\n",
    "from idea.func import Func"
   ]
  },
  {
   "cell_type": "code",
   "execution_count": 13,
   "metadata": {},
   "outputs": [
    {
     "data": {
      "text/plain": [
       "['config.ini']"
      ]
     },
     "execution_count": 13,
     "metadata": {},
     "output_type": "execute_result"
    }
   ],
   "source": [
    "config = configparser.ConfigParser()\n",
    "config.read('config.ini')"
   ]
  },
  {
   "cell_type": "code",
   "execution_count": 14,
   "metadata": {},
   "outputs": [
    {
     "data": {
      "text/plain": [
       "'1135906220:AAFWZX5-vxsiVuBtFHosSvlf4SlDXyMZxz0'"
      ]
     },
     "execution_count": 14,
     "metadata": {},
     "output_type": "execute_result"
    }
   ],
   "source": [
    "config['TELEGRAM']['ACCESS_TOKEN']"
   ]
  },
  {
   "cell_type": "code",
   "execution_count": 15,
   "metadata": {},
   "outputs": [
    {
     "data": {
      "text/plain": [
       "'https://d7318c52.ngrok.io'"
      ]
     },
     "execution_count": 15,
     "metadata": {},
     "output_type": "execute_result"
    }
   ],
   "source": [
    "config['TELEGRAM']['WEBHOOK_URL']"
   ]
  },
  {
   "cell_type": "code",
   "execution_count": 16,
   "metadata": {},
   "outputs": [],
   "source": [
    "access_token = config['TELEGRAM']['ACCESS_TOKEN']\n",
    "webhook_url = config['TELEGRAM']['WEBHOOK_URL']"
   ]
  },
  {
   "cell_type": "markdown",
   "metadata": {},
   "source": [
    "## delete webhook url"
   ]
  },
  {
   "cell_type": "code",
   "execution_count": 17,
   "metadata": {},
   "outputs": [
    {
     "data": {
      "text/plain": [
       "'{\"ok\":true,\"result\":true,\"description\":\"Webhook was deleted\"}'"
      ]
     },
     "execution_count": 17,
     "metadata": {},
     "output_type": "execute_result"
    }
   ],
   "source": [
    "requests.post('https://api.telegram.org/bot'+access_token+'/deleteWebhook').text"
   ]
  },
  {
   "cell_type": "markdown",
   "metadata": {},
   "source": [
    "## set webhook url"
   ]
  },
  {
   "cell_type": "code",
   "execution_count": 18,
   "metadata": {},
   "outputs": [
    {
     "data": {
      "text/plain": [
       "'{\"ok\":true,\"result\":true,\"description\":\"Webhook was set\"}'"
      ]
     },
     "execution_count": 18,
     "metadata": {},
     "output_type": "execute_result"
    }
   ],
   "source": [
    "requests.post('https://api.telegram.org/bot'+access_token+'/setWebhook?url='+webhook_url+'/hook').text"
   ]
  },
  {
   "cell_type": "code",
   "execution_count": 19,
   "metadata": {
    "scrolled": true
   },
   "outputs": [
    {
     "name": "stdout",
     "output_type": "stream",
     "text": [
      " * Serving Flask app \"__main__\" (lazy loading)\n",
      " * Environment: production\n",
      "   WARNING: This is a development server. Do not use it in a production deployment.\n",
      "   Use a production WSGI server instead.\n",
      " * Debug mode: off\n"
     ]
    },
    {
     "name": "stderr",
     "output_type": "stream",
     "text": [
      " * Running on http://127.0.0.1:5000/ (Press CTRL+C to quit)\n",
      "127.0.0.1 - - [05/Apr/2020 13:21:27] \"\u001b[37mPOST /hook HTTP/1.1\u001b[0m\" 200 -\n",
      "127.0.0.1 - - [05/Apr/2020 13:21:30] \"\u001b[37mPOST /hook HTTP/1.1\u001b[0m\" 200 -\n",
      "127.0.0.1 - - [05/Apr/2020 13:21:36] \"\u001b[37mPOST /hook HTTP/1.1\u001b[0m\" 200 -\n",
      "127.0.0.1 - - [05/Apr/2020 13:21:41] \"\u001b[37mPOST /hook HTTP/1.1\u001b[0m\" 200 -\n",
      "127.0.0.1 - - [05/Apr/2020 13:21:54] \"\u001b[37mPOST /hook HTTP/1.1\u001b[0m\" 200 -\n",
      "127.0.0.1 - - [05/Apr/2020 13:22:13] \"\u001b[37mPOST /hook HTTP/1.1\u001b[0m\" 200 -\n"
     ]
    }
   ],
   "source": [
    "app = Flask(__name__)\n",
    "\n",
    "bot = telegram.Bot(token=config['TELEGRAM']['ACCESS_TOKEN'])\n",
    "func = Func()\n",
    "\n",
    "morning = '早安~您好！\\n'\\\n",
    "         '若要查詢各產業的股票代碼，請輸入【產業查股】\\n'\\\n",
    "         '若要查詢股票代碼的相關資訊，請輸入【股票代碼查詢】\\n'\\\n",
    "\n",
    "\n",
    "morning_button = ReplyKeyboardMarkup([['產業查股'],['股票代碼查詢']],\n",
    "                                     one_time_keyboard = True,\n",
    "                                     selective = True)\n",
    "\n",
    "@app.route('/hook', methods=['POST'])\n",
    "\n",
    "def webhook_handler(): \n",
    "    if request.method == \"POST\":\n",
    "        update = telegram.Update.de_json(request.get_json(force=True), bot)\n",
    "        \n",
    "        dispatcher.process_update(update)\n",
    "    return 'ok'\n",
    "\n",
    "def morning_handler(bot, update):\n",
    "    update.message.reply_text(morning, reply_markup = morning_button)\n",
    "\n",
    "def industry_handler(bot, update): \n",
    "    text = update.message.text   \n",
    "    reply = func.maim(text)\n",
    "#     reply = get_meta(text)\n",
    "    update.message.reply_text(reply)\n",
    "    \n",
    "# This class dispatches all kinds of updates to its registered handlers.\n",
    "dispatcher = Dispatcher(bot, None)\n",
    "dispatcher.add_handler(CommandHandler('morning', morning_handler))\n",
    "dispatcher.add_handler(MessageHandler(Filters.text, industry_handler)) \n",
    "\n",
    "\n",
    "if __name__ == '__main__':\n",
    "    app.run()"
   ]
  },
  {
   "cell_type": "code",
   "execution_count": null,
   "metadata": {},
   "outputs": [],
   "source": []
  }
 ],
 "metadata": {
  "kernelspec": {
   "display_name": "Python 3",
   "language": "python",
   "name": "python3"
  },
  "language_info": {
   "codemirror_mode": {
    "name": "ipython",
    "version": 3
   },
   "file_extension": ".py",
   "mimetype": "text/x-python",
   "name": "python",
   "nbconvert_exporter": "python",
   "pygments_lexer": "ipython3",
   "version": "3.6.10"
  }
 },
 "nbformat": 4,
 "nbformat_minor": 4
}
